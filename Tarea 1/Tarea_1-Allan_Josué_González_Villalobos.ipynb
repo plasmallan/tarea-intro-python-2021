{
 "cells": [
  {
   "cell_type": "markdown",
   "metadata": {},
   "source": [
    "# Ejercicios de la Sesión 1"
   ]
  },
  {
   "cell_type": "markdown",
   "metadata": {},
   "source": [
    "## Ejercicio 1 - Clasificación Estelar"
   ]
  },
  {
   "cell_type": "code",
   "execution_count": 1,
   "metadata": {},
   "outputs": [],
   "source": [
    "def Kelvin2Fahrenheit(TK):\n",
    "    TF = (TK - 273.15)*9/5+32\n",
    "    return TF\n",
    "\n",
    "def Kelvin2Celsius(TK):\n",
    "    TC = TK - 273.15\n",
    "    return TC"
   ]
  },
  {
   "cell_type": "code",
   "execution_count": 2,
   "metadata": {},
   "outputs": [
    {
     "data": {
      "text/plain": [
       "26726.85"
      ]
     },
     "execution_count": 2,
     "metadata": {},
     "output_type": "execute_result"
    }
   ],
   "source": [
    "TK = 27000\n",
    "\n",
    "Kelvin2Celsius(TK)"
   ]
  },
  {
   "cell_type": "code",
   "execution_count": 3,
   "metadata": {},
   "outputs": [
    {
     "data": {
      "text/plain": [
       "48140.33"
      ]
     },
     "execution_count": 3,
     "metadata": {},
     "output_type": "execute_result"
    }
   ],
   "source": [
    "Kelvin2Fahrenheit(TK)"
   ]
  },
  {
   "cell_type": "markdown",
   "metadata": {},
   "source": [
    "## Ejercicio 2 - Ley de Wien"
   ]
  },
  {
   "cell_type": "code",
   "execution_count": 4,
   "metadata": {},
   "outputs": [
    {
     "data": {
      "text/plain": [
       "0.508421052631579"
      ]
     },
     "execution_count": 4,
     "metadata": {},
     "output_type": "execute_result"
    }
   ],
   "source": [
    "def Temp2Wave(T):\n",
    "    lambda_peak = 2898/T\n",
    "    return lambda_peak\n",
    "\n",
    "T = 5700\n",
    "Temp2Wave(T)"
   ]
  },
  {
   "cell_type": "markdown",
   "metadata": {},
   "source": [
    "## Ejercicio 3 - Masa de una Galaxia"
   ]
  },
  {
   "cell_type": "code",
   "execution_count": 5,
   "metadata": {},
   "outputs": [
    {
     "data": {
      "text/plain": [
       "1.161019490254873e+41"
      ]
     },
     "execution_count": 5,
     "metadata": {},
     "output_type": "execute_result"
    }
   ],
   "source": [
    "#Variable (identificadores)\n",
    "r = 1.6*10**20 #(m)\n",
    "v = 2.2*10**5 #(m/s)\n",
    "G = 6.67*10**-11 #(m3/(kgxs**2))\n",
    "M = r*v**2/G\n",
    "M"
   ]
  },
  {
   "cell_type": "markdown",
   "metadata": {},
   "source": [
    "## Ejercicios adicionales"
   ]
  },
  {
   "cell_type": "code",
   "execution_count": 13,
   "metadata": {},
   "outputs": [],
   "source": [
    "# Longitud de onda emitida\n",
    "def f02fe(z,f0):\n",
    "    fz = (1 + z)*f0\n",
    "    return fz"
   ]
  },
  {
   "cell_type": "code",
   "execution_count": 14,
   "metadata": {},
   "outputs": [
    {
     "data": {
      "text/plain": [
       "0.0005200831022107476"
      ]
     },
     "execution_count": 14,
     "metadata": {},
     "output_type": "execute_result"
    }
   ],
   "source": [
    "z = 6.027\n",
    "f0 = 82.031*10**9\n",
    "c0 = 299792458\n",
    "lambda_e = c0/f02fe(z,f0)\n",
    "lambda_e"
   ]
  },
  {
   "cell_type": "code",
   "execution_count": 16,
   "metadata": {},
   "outputs": [],
   "source": [
    "def T02Tz(z,T0):\n",
    "    T_z = T0*(1 + z)\n",
    "    return T_z"
   ]
  },
  {
   "cell_type": "code",
   "execution_count": 17,
   "metadata": {},
   "outputs": [
    {
     "data": {
      "text/plain": [
       "19.18371"
      ]
     },
     "execution_count": 17,
     "metadata": {},
     "output_type": "execute_result"
    }
   ],
   "source": [
    "T0 = 2.73\n",
    "T02Tz(z,T0)"
   ]
  },
  {
   "cell_type": "markdown",
   "metadata": {},
   "source": [
    "# Ejercicios de la Tarea 1"
   ]
  },
  {
   "cell_type": "code",
   "execution_count": 3,
   "metadata": {},
   "outputs": [
    {
     "name": "stdout",
     "output_type": "stream",
     "text": [
      "Hola Mundo\n"
     ]
    }
   ],
   "source": [
    "print(\"Hola Mundo\")"
   ]
  },
  {
   "cell_type": "code",
   "execution_count": 11,
   "metadata": {},
   "outputs": [
    {
     "name": "stdout",
     "output_type": "stream",
     "text": [
      "Allan Josué González Villalobos 22 Costa Rica\n",
      "<class 'str'> <class 'int'> <class 'str'>\n"
     ]
    }
   ],
   "source": [
    "nombre = \"Allan Josué González Villalobos\"\n",
    "edad = 22\n",
    "pais = \"Costa Rica\"\n",
    "\n",
    "print(nombre, edad, pais)\n",
    "print(type(nombre), type(edad), type(pais))"
   ]
  },
  {
   "cell_type": "code",
   "execution_count": 9,
   "metadata": {},
   "outputs": [
    {
     "name": "stdout",
     "output_type": "stream",
     "text": [
      "En astronomía, la clasificación estelar\n",
      "es la clasificación de las estrellas\n",
      "en función de sus características espectrales.\n"
     ]
    }
   ],
   "source": [
    "print( \"En astronomía, la clasificación estelar\\nes la clasificación de las estrellas\\nen función de sus características espectrales.\")"
   ]
  },
  {
   "cell_type": "code",
   "execution_count": 12,
   "metadata": {},
   "outputs": [
    {
     "name": "stdout",
     "output_type": "stream",
     "text": [
      "Hipergigantes---Subgigantes---Secuencia principal*"
     ]
    }
   ],
   "source": [
    "print(\"Hipergigantes\", \"Subgigantes\", \"Secuencia principal\",sep=\"---\",end=\"*\")"
   ]
  },
  {
   "cell_type": "code",
   "execution_count": 14,
   "metadata": {},
   "outputs": [
    {
     "name": "stdout",
     "output_type": "stream",
     "text": [
      "La masa de Júpiter es 1897824427480916306509692928 kg\n"
     ]
    }
   ],
   "source": [
    "m_solar = 1.98892*10**30\n",
    "m_jupiter = m_solar/1048\n",
    "print(\"La masa de Júpiter es %i kg\" % m_jupiter)"
   ]
  },
  {
   "cell_type": "code",
   "execution_count": 15,
   "metadata": {},
   "outputs": [],
   "source": [
    "d_mercurio = 0.389 #AU\n",
    "d_venus = 0.723 #AU\n",
    "d_marte = 1.524 #AU\n",
    "d_jupiter = 5.203 #AU\n",
    "d_saturno = 9.537 #AU\n",
    "\n",
    "def AUCompare(d):\n",
    "    if d > 1:\n",
    "        return True\n",
    "    elif d < 1:\n",
    "        return False"
   ]
  },
  {
   "cell_type": "code",
   "execution_count": 16,
   "metadata": {},
   "outputs": [
    {
     "data": {
      "text/plain": [
       "False"
      ]
     },
     "execution_count": 16,
     "metadata": {},
     "output_type": "execute_result"
    }
   ],
   "source": [
    "AUCompare(d_mercurio)"
   ]
  },
  {
   "cell_type": "code",
   "execution_count": 17,
   "metadata": {},
   "outputs": [
    {
     "data": {
      "text/plain": [
       "False"
      ]
     },
     "execution_count": 17,
     "metadata": {},
     "output_type": "execute_result"
    }
   ],
   "source": [
    "AUCompare(d_venus)"
   ]
  },
  {
   "cell_type": "code",
   "execution_count": 18,
   "metadata": {},
   "outputs": [
    {
     "data": {
      "text/plain": [
       "True"
      ]
     },
     "execution_count": 18,
     "metadata": {},
     "output_type": "execute_result"
    }
   ],
   "source": [
    "AUCompare(d_marte)"
   ]
  },
  {
   "cell_type": "code",
   "execution_count": 19,
   "metadata": {},
   "outputs": [
    {
     "data": {
      "text/plain": [
       "True"
      ]
     },
     "execution_count": 19,
     "metadata": {},
     "output_type": "execute_result"
    }
   ],
   "source": [
    "AUCompare(d_jupiter)"
   ]
  },
  {
   "cell_type": "code",
   "execution_count": 20,
   "metadata": {},
   "outputs": [
    {
     "data": {
      "text/plain": [
       "True"
      ]
     },
     "execution_count": 20,
     "metadata": {},
     "output_type": "execute_result"
    }
   ],
   "source": [
    "AUCompare(d_saturno)"
   ]
  }
 ],
 "metadata": {
  "kernelspec": {
   "display_name": "Python 3",
   "language": "python",
   "name": "python3"
  },
  "language_info": {
   "codemirror_mode": {
    "name": "ipython",
    "version": 3
   },
   "file_extension": ".py",
   "mimetype": "text/x-python",
   "name": "python",
   "nbconvert_exporter": "python",
   "pygments_lexer": "ipython3",
   "version": "3.8.3"
  }
 },
 "nbformat": 4,
 "nbformat_minor": 4
}
