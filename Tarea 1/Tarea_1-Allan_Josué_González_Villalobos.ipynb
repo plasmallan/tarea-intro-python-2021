{
 "cells": [
  {
   "cell_type": "code",
   "execution_count": 3,
   "metadata": {},
   "outputs": [
    {
     "name": "stdout",
     "output_type": "stream",
     "text": [
      "Hola Mundo\n"
     ]
    }
   ],
   "source": [
    "print(\"Hola Mundo\")"
   ]
  },
  {
   "cell_type": "code",
   "execution_count": 11,
   "metadata": {},
   "outputs": [
    {
     "name": "stdout",
     "output_type": "stream",
     "text": [
      "Allan Josué González Villalobos 22 Costa Rica\n",
      "<class 'str'> <class 'int'> <class 'str'>\n"
     ]
    }
   ],
   "source": [
    "nombre = \"Allan Josué González Villalobos\"\n",
    "edad = 22\n",
    "pais = \"Costa Rica\"\n",
    "\n",
    "print(nombre, edad, pais)\n",
    "print(type(nombre), type(edad), type(pais))"
   ]
  },
  {
   "cell_type": "code",
   "execution_count": 9,
   "metadata": {},
   "outputs": [
    {
     "name": "stdout",
     "output_type": "stream",
     "text": [
      "En astronomía, la clasificación estelar\n",
      "es la clasificación de las estrellas\n",
      "en función de sus características espectrales.\n"
     ]
    }
   ],
   "source": [
    "print( \"En astronomía, la clasificación estelar\\nes la clasificación de las estrellas\\nen función de sus características espectrales.\")"
   ]
  },
  {
   "cell_type": "code",
   "execution_count": 12,
   "metadata": {},
   "outputs": [
    {
     "name": "stdout",
     "output_type": "stream",
     "text": [
      "Hipergigantes---Subgigantes---Secuencia principal*"
     ]
    }
   ],
   "source": [
    "print(\"Hipergigantes\", \"Subgigantes\", \"Secuencia principal\",sep=\"---\",end=\"*\")"
   ]
  },
  {
   "cell_type": "code",
   "execution_count": 14,
   "metadata": {},
   "outputs": [
    {
     "name": "stdout",
     "output_type": "stream",
     "text": [
      "La masa de Júpiter es 1897824427480916306509692928 kg\n"
     ]
    }
   ],
   "source": [
    "m_solar = 1.98892*10**30\n",
    "m_jupiter = m_solar/1048\n",
    "print(\"La masa de Júpiter es %i kg\" % m_jupiter)"
   ]
  },
  {
   "cell_type": "code",
   "execution_count": 15,
   "metadata": {},
   "outputs": [],
   "source": [
    "d_mercurio = 0.389 #AU\n",
    "d_venus = 0.723 #AU\n",
    "d_marte = 1.524 #AU\n",
    "d_jupiter = 5.203 #AU\n",
    "d_saturno = 9.537 #AU\n",
    "\n",
    "def AUCompare(d):\n",
    "    if d > 1:\n",
    "        return True\n",
    "    elif d < 1:\n",
    "        return False"
   ]
  },
  {
   "cell_type": "code",
   "execution_count": 16,
   "metadata": {},
   "outputs": [
    {
     "data": {
      "text/plain": [
       "False"
      ]
     },
     "execution_count": 16,
     "metadata": {},
     "output_type": "execute_result"
    }
   ],
   "source": [
    "AUCompare(d_mercurio)"
   ]
  },
  {
   "cell_type": "code",
   "execution_count": 17,
   "metadata": {},
   "outputs": [
    {
     "data": {
      "text/plain": [
       "False"
      ]
     },
     "execution_count": 17,
     "metadata": {},
     "output_type": "execute_result"
    }
   ],
   "source": [
    "AUCompare(d_venus)"
   ]
  },
  {
   "cell_type": "code",
   "execution_count": 18,
   "metadata": {},
   "outputs": [
    {
     "data": {
      "text/plain": [
       "True"
      ]
     },
     "execution_count": 18,
     "metadata": {},
     "output_type": "execute_result"
    }
   ],
   "source": [
    "AUCompare(d_marte)"
   ]
  },
  {
   "cell_type": "code",
   "execution_count": 19,
   "metadata": {},
   "outputs": [
    {
     "data": {
      "text/plain": [
       "True"
      ]
     },
     "execution_count": 19,
     "metadata": {},
     "output_type": "execute_result"
    }
   ],
   "source": [
    "AUCompare(d_jupiter)"
   ]
  },
  {
   "cell_type": "code",
   "execution_count": 20,
   "metadata": {},
   "outputs": [
    {
     "data": {
      "text/plain": [
       "True"
      ]
     },
     "execution_count": 20,
     "metadata": {},
     "output_type": "execute_result"
    }
   ],
   "source": [
    "AUCompare(d_saturno)"
   ]
  }
 ],
 "metadata": {
  "kernelspec": {
   "display_name": "Python 3",
   "language": "python",
   "name": "python3"
  },
  "language_info": {
   "codemirror_mode": {
    "name": "ipython",
    "version": 3
   },
   "file_extension": ".py",
   "mimetype": "text/x-python",
   "name": "python",
   "nbconvert_exporter": "python",
   "pygments_lexer": "ipython3",
   "version": "3.8.3"
  }
 },
 "nbformat": 4,
 "nbformat_minor": 4
}
